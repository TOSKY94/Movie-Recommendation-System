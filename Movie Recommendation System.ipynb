{
 "cells": [
  {
   "cell_type": "markdown",
   "id": "5d63db42",
   "metadata": {
    "id": "5d63db42"
   },
   "source": [
    "### Dependencies"
   ]
  },
  {
   "cell_type": "code",
   "execution_count": 1,
   "id": "ae3ba53f",
   "metadata": {
    "id": "ae3ba53f"
   },
   "outputs": [],
   "source": [
    "import numpy as np\n",
    "import pandas as pd\n",
    "import difflib\n",
    "import re\n",
    "from nltk.stem.snowball import SnowballStemmer\n",
    "from sklearn.feature_extraction.text import TfidfVectorizer\n",
    "from sklearn.metrics.pairwise import cosine_similarity"
   ]
  },
  {
   "cell_type": "markdown",
   "id": "f2231f95",
   "metadata": {
    "id": "f2231f95"
   },
   "source": [
    "### Data Preprocessing"
   ]
  },
  {
   "cell_type": "code",
   "execution_count": 2,
   "id": "6106f101",
   "metadata": {
    "id": "6106f101"
   },
   "outputs": [],
   "source": [
    "movies = pd.read_csv('IMDB_movies.csv')"
   ]
  },
  {
   "cell_type": "code",
   "execution_count": 3,
   "id": "f3084900",
   "metadata": {
    "id": "f3084900"
   },
   "outputs": [
    {
     "data": {
      "text/html": [
       "<div>\n",
       "<style scoped>\n",
       "    .dataframe tbody tr th:only-of-type {\n",
       "        vertical-align: middle;\n",
       "    }\n",
       "\n",
       "    .dataframe tbody tr th {\n",
       "        vertical-align: top;\n",
       "    }\n",
       "\n",
       "    .dataframe thead th {\n",
       "        text-align: right;\n",
       "    }\n",
       "</style>\n",
       "<table border=\"1\" class=\"dataframe\">\n",
       "  <thead>\n",
       "    <tr style=\"text-align: right;\">\n",
       "      <th></th>\n",
       "      <th>Movie_Title</th>\n",
       "      <th>Year</th>\n",
       "      <th>Director</th>\n",
       "      <th>Actors</th>\n",
       "      <th>Rating</th>\n",
       "      <th>Runtime(Mins)</th>\n",
       "      <th>Censor</th>\n",
       "      <th>Total_Gross</th>\n",
       "      <th>main_genre</th>\n",
       "      <th>side_genre</th>\n",
       "    </tr>\n",
       "  </thead>\n",
       "  <tbody>\n",
       "    <tr>\n",
       "      <th>0</th>\n",
       "      <td>Kantara</td>\n",
       "      <td>2022</td>\n",
       "      <td>Rishab Shetty</td>\n",
       "      <td>Rishab Shetty, Sapthami Gowda, Kishore Kumar G...</td>\n",
       "      <td>9.3</td>\n",
       "      <td>148</td>\n",
       "      <td>UA</td>\n",
       "      <td>Gross Unkown</td>\n",
       "      <td>Action</td>\n",
       "      <td>Adventure,  Drama</td>\n",
       "    </tr>\n",
       "    <tr>\n",
       "      <th>1</th>\n",
       "      <td>The Dark Knight</td>\n",
       "      <td>2008</td>\n",
       "      <td>Christopher Nolan</td>\n",
       "      <td>Christian Bale, Heath Ledger, Aaron Eckhart, M...</td>\n",
       "      <td>9.0</td>\n",
       "      <td>152</td>\n",
       "      <td>UA</td>\n",
       "      <td>$534.86M</td>\n",
       "      <td>Action</td>\n",
       "      <td>Crime,  Drama</td>\n",
       "    </tr>\n",
       "  </tbody>\n",
       "</table>\n",
       "</div>"
      ],
      "text/plain": [
       "       Movie_Title  Year           Director  \\\n",
       "0          Kantara  2022      Rishab Shetty   \n",
       "1  The Dark Knight  2008  Christopher Nolan   \n",
       "\n",
       "                                              Actors  Rating  Runtime(Mins)  \\\n",
       "0  Rishab Shetty, Sapthami Gowda, Kishore Kumar G...     9.3            148   \n",
       "1  Christian Bale, Heath Ledger, Aaron Eckhart, M...     9.0            152   \n",
       "\n",
       "  Censor   Total_Gross main_genre          side_genre  \n",
       "0     UA  Gross Unkown     Action   Adventure,  Drama  \n",
       "1     UA      $534.86M     Action       Crime,  Drama  "
      ]
     },
     "execution_count": 3,
     "metadata": {},
     "output_type": "execute_result"
    }
   ],
   "source": [
    "movies.head(2)"
   ]
  },
  {
   "cell_type": "code",
   "execution_count": 4,
   "id": "a43cfd69",
   "metadata": {
    "id": "a43cfd69"
   },
   "outputs": [
    {
     "data": {
      "text/plain": [
       "(5562, 10)"
      ]
     },
     "execution_count": 4,
     "metadata": {},
     "output_type": "execute_result"
    }
   ],
   "source": [
    "movies.shape"
   ]
  },
  {
   "cell_type": "code",
   "execution_count": 5,
   "id": "f43ca4fb",
   "metadata": {
    "id": "f43ca4fb"
   },
   "outputs": [
    {
     "data": {
      "text/plain": [
       "Movie_Title      0\n",
       "Year             0\n",
       "Director         0\n",
       "Actors           0\n",
       "Rating           0\n",
       "Runtime(Mins)    0\n",
       "Censor           0\n",
       "Total_Gross      0\n",
       "main_genre       0\n",
       "side_genre       0\n",
       "dtype: int64"
      ]
     },
     "execution_count": 5,
     "metadata": {},
     "output_type": "execute_result"
    }
   ],
   "source": [
    "movies.isnull().sum()"
   ]
  },
  {
   "cell_type": "markdown",
   "id": "0b3a1f9d",
   "metadata": {
    "id": "0b3a1f9d"
   },
   "source": [
    "### Feature Extraction"
   ]
  },
  {
   "cell_type": "code",
   "execution_count": 6,
   "id": "f9670fbb",
   "metadata": {
    "id": "f9670fbb"
   },
   "outputs": [],
   "source": [
    "selected_features = ['Movie_Title','main_genre','side_genre','Actors','Director']\n",
    "for feature in selected_features:\n",
    "    movies[feature]=movies[feature].fillna('')\n",
    "    movies[feature]=movies[feature].str.replace(',',' ')"
   ]
  },
  {
   "cell_type": "code",
   "execution_count": 7,
   "id": "2fe04f0c",
   "metadata": {
    "id": "2fe04f0c"
   },
   "outputs": [
    {
     "data": {
      "text/plain": [
       "['Movie_Title', 'main_genre', 'side_genre', 'Actors', 'Director']"
      ]
     },
     "execution_count": 7,
     "metadata": {},
     "output_type": "execute_result"
    }
   ],
   "source": [
    "selected_features"
   ]
  },
  {
   "cell_type": "code",
   "execution_count": 8,
   "id": "705f06b3",
   "metadata": {
    "id": "705f06b3"
   },
   "outputs": [],
   "source": [
    "#movies[selected_features]"
   ]
  },
  {
   "cell_type": "code",
   "execution_count": 9,
   "id": "bbb20e70",
   "metadata": {
    "id": "bbb20e70"
   },
   "outputs": [],
   "source": [
    "combined_features = movies['Movie_Title']+' '+movies['main_genre']+' '+movies['side_genre']+' '+movies['Actors']+' '+movies['Director']"
   ]
  },
  {
   "cell_type": "code",
   "execution_count": 10,
   "id": "9ec3f7b7",
   "metadata": {
    "id": "9ec3f7b7"
   },
   "outputs": [
    {
     "data": {
      "text/plain": [
       "0       Kantara Action  Adventure   Drama Rishab Shett...\n",
       "1       The Dark Knight Action  Crime   Drama Christia...\n",
       "2       The Lord of the Rings: The Return of the King ...\n",
       "3       Inception Action  Adventure   Sci-Fi Leonardo ...\n",
       "4       The Lord of the Rings: The Two Towers Action  ...\n",
       "                              ...                        \n",
       "5557    Disaster Movie Comedy  Sci-Fi Carmen Electra  ...\n",
       "5558    The Hottie & the Nottie Comedy  Romance Paris ...\n",
       "5559    From Justin to Kelly Comedy  Musical   Romance...\n",
       "5560    Superbabies: Baby Geniuses 2 Comedy  Family   ...\n",
       "5561    Cumali Ceber: Allah Seni Alsin Comedy Comedy H...\n",
       "Length: 5562, dtype: object"
      ]
     },
     "execution_count": 10,
     "metadata": {},
     "output_type": "execute_result"
    }
   ],
   "source": [
    "combined_features"
   ]
  },
  {
   "cell_type": "code",
   "execution_count": 11,
   "id": "fTJdrGKGF5Yb",
   "metadata": {
    "id": "fTJdrGKGF5Yb"
   },
   "outputs": [],
   "source": [
    "stemmer = SnowballStemmer('english')\n",
    "def stemming_tokenizer(str_input):\n",
    "    words = re.sub(r'[^a-zA-Z]{2,}', ' ', str_input).lower().split()\n",
    "    words = [stemmer.stem(word) for word in words]\n",
    "    return ' '.join(words)"
   ]
  },
  {
   "cell_type": "code",
   "execution_count": 13,
   "id": "RmftcK6nGUYE",
   "metadata": {
    "id": "RmftcK6nGUYE"
   },
   "outputs": [],
   "source": [
    "stemmed_features = combined_features.apply(stemming_tokenizer)"
   ]
  },
  {
   "cell_type": "code",
   "execution_count": 14,
   "id": "TIgUrEjSGnNx",
   "metadata": {
    "id": "TIgUrEjSGnNx"
   },
   "outputs": [
    {
     "data": {
      "text/plain": [
       "0       kantara action adventur drama rishab shetti sa...\n",
       "1       the dark knight action crime drama christian b...\n",
       "2       the lord of the ring the return of the king ac...\n",
       "3       incept action adventur sci-fi leonardo dicapri...\n",
       "4       the lord of the ring the two tower action adve...\n",
       "                              ...                        \n",
       "5557    disast movi comedi sci-fi carmen electra vanes...\n",
       "5558    the hotti the notti comedi romanc pari hilton ...\n",
       "5559    from justin to kelli comedi music romanc kelli...\n",
       "5560    superbabi babi genius comedi famili sci-fi jon...\n",
       "5561    cumali ceber allah seni alsin comedi comedi ha...\n",
       "Length: 5562, dtype: object"
      ]
     },
     "execution_count": 14,
     "metadata": {},
     "output_type": "execute_result"
    }
   ],
   "source": [
    "stemmed_features"
   ]
  },
  {
   "cell_type": "code",
   "execution_count": 15,
   "id": "6a333769",
   "metadata": {
    "id": "6a333769"
   },
   "outputs": [],
   "source": [
    "vectorizer = TfidfVectorizer(stop_words='english')\n",
    "\n",
    "feature_vectors = vectorizer.fit_transform(stemmed_features)"
   ]
  },
  {
   "cell_type": "code",
   "execution_count": 16,
   "id": "Vjn6NBPbEWdx",
   "metadata": {
    "id": "Vjn6NBPbEWdx"
   },
   "outputs": [
    {
     "data": {
      "text/plain": [
       "(5562, 14601)"
      ]
     },
     "execution_count": 16,
     "metadata": {},
     "output_type": "execute_result"
    }
   ],
   "source": [
    "feature_vectors.shape"
   ]
  },
  {
   "cell_type": "code",
   "execution_count": 17,
   "id": "evuIC1HdEO-d",
   "metadata": {
    "id": "evuIC1HdEO-d"
   },
   "outputs": [
    {
     "data": {
      "text/plain": [
       "array(['8mm', 'aakeel', 'aaliyah', ..., 'ôdishon', 'ôkami', 'ölüml'],\n",
       "      dtype=object)"
      ]
     },
     "execution_count": 17,
     "metadata": {},
     "output_type": "execute_result"
    }
   ],
   "source": [
    "vectorizer.get_feature_names_out()"
   ]
  },
  {
   "cell_type": "code",
   "execution_count": 18,
   "id": "5f6bf840",
   "metadata": {
    "id": "5f6bf840"
   },
   "outputs": [
    {
     "data": {
      "text/plain": [
       "(5562, 5562)"
      ]
     },
     "execution_count": 18,
     "metadata": {},
     "output_type": "execute_result"
    }
   ],
   "source": [
    "similarity = cosine_similarity(feature_vectors)\n",
    "similarity.shape"
   ]
  },
  {
   "cell_type": "markdown",
   "id": "97516d97",
   "metadata": {
    "id": "97516d97"
   },
   "source": [
    "### Testing"
   ]
  },
  {
   "cell_type": "code",
   "execution_count": null,
   "id": "db1af799",
   "metadata": {
    "id": "db1af799"
   },
   "outputs": [],
   "source": [
    "movie_name = input('Enter movie name: ')"
   ]
  },
  {
   "cell_type": "code",
   "execution_count": null,
   "id": "ac256c26",
   "metadata": {
    "id": "ac256c26"
   },
   "outputs": [],
   "source": [
    "movie_titles =movies['Movie_Title'].tolist()\n",
    "movie_matches = difflib.get_close_matches(movie_name, movie_titles)\n",
    "movie_matches"
   ]
  },
  {
   "cell_type": "code",
   "execution_count": null,
   "id": "dc56f484",
   "metadata": {
    "id": "dc56f484"
   },
   "outputs": [],
   "source": [
    "movie_idx = movies[movies['Movie_Title']==movie_matches[0]].index.values[0]"
   ]
  },
  {
   "cell_type": "code",
   "execution_count": null,
   "id": "24950a3c",
   "metadata": {
    "id": "24950a3c"
   },
   "outputs": [],
   "source": [
    "similarity_scores = list(enumerate(similarity[movie_idx]))\n",
    "#similarity_scores"
   ]
  },
  {
   "cell_type": "code",
   "execution_count": null,
   "id": "78bee7ed",
   "metadata": {
    "id": "78bee7ed"
   },
   "outputs": [],
   "source": [
    "sorted_movies = sorted(similarity_scores, key=lambda x:x[1], reverse = True)"
   ]
  },
  {
   "cell_type": "code",
   "execution_count": null,
   "id": "dc343bd2",
   "metadata": {
    "id": "dc343bd2"
   },
   "outputs": [],
   "source": [
    "recommendation = []\n",
    "for idx, score in sorted_movies[:20]:\n",
    "    recommendation.append(movies[movies.index==idx]['Movie_Title'].values[0])\n",
    "\n",
    "recommendation"
   ]
  },
  {
   "cell_type": "markdown",
   "id": "1fb203c8",
   "metadata": {
    "id": "1fb203c8"
   },
   "source": [
    "### Compilation"
   ]
  },
  {
   "cell_type": "code",
   "execution_count": 19,
   "id": "4e8ff171",
   "metadata": {
    "id": "4e8ff171"
   },
   "outputs": [],
   "source": [
    "def recommendation(movie_title):\n",
    "    movie_titles =movies['Movie_Title'].tolist()\n",
    "    movie_matches = difflib.get_close_matches(movie_name, movie_titles)\n",
    "    movie_idx = movies[movies['Movie_Title']==movie_matches[0]].index.values[0]\n",
    "    similarity_scores = list(enumerate(similarity[movie_idx]))\n",
    "    sorted_movies = sorted(similarity_scores, key=lambda x:x[1], reverse = True)\n",
    "    \n",
    "    recommendation = []\n",
    "    for idx, score in sorted_movies[:20]:\n",
    "        recommendation.append(movies[movies.index==idx]['Movie_Title'].values[0])\n",
    "\n",
    "    return recommendation\n",
    "    "
   ]
  },
  {
   "cell_type": "code",
   "execution_count": 24,
   "id": "e3fbaf70",
   "metadata": {},
   "outputs": [
    {
     "name": "stdout",
     "output_type": "stream",
     "text": [
      "Enter movie name: Batman\n"
     ]
    }
   ],
   "source": [
    "movie_name = input('Enter movie name: ')"
   ]
  },
  {
   "cell_type": "code",
   "execution_count": 25,
   "id": "717f5d9a",
   "metadata": {},
   "outputs": [
    {
     "data": {
      "text/plain": [
       "['Batman',\n",
       " 'Batman Returns',\n",
       " 'Mars Attacks!',\n",
       " 'The Natural',\n",
       " 'Beetle Juice',\n",
       " 'Planet of the Apes',\n",
       " 'The Sentinel',\n",
       " \"Something's Gotta Give\",\n",
       " 'Cellular',\n",
       " 'Grudge Match',\n",
       " 'L.A. Confidential',\n",
       " 'Never Say Never Again',\n",
       " 'Sherlock Jr.',\n",
       " '8 Mile',\n",
       " 'Nine 1/2 Weeks',\n",
       " 'My Stepmother Is an Alien',\n",
       " 'Edward Scissorhands',\n",
       " 'The Batman',\n",
       " 'The Lego Batman Movie',\n",
       " 'Jack Frost']"
      ]
     },
     "execution_count": 25,
     "metadata": {},
     "output_type": "execute_result"
    }
   ],
   "source": [
    "recommendation(movie_name)"
   ]
  },
  {
   "cell_type": "code",
   "execution_count": null,
   "id": "cb785b2f",
   "metadata": {},
   "outputs": [],
   "source": []
  },
  {
   "cell_type": "code",
   "execution_count": null,
   "id": "326c36c4",
   "metadata": {},
   "outputs": [],
   "source": []
  }
 ],
 "metadata": {
  "accelerator": "GPU",
  "colab": {
   "collapsed_sections": [
    "5d63db42"
   ],
   "private_outputs": true,
   "provenance": []
  },
  "gpuClass": "standard",
  "kernelspec": {
   "display_name": "Python 3 (ipykernel)",
   "language": "python",
   "name": "python3"
  },
  "language_info": {
   "codemirror_mode": {
    "name": "ipython",
    "version": 3
   },
   "file_extension": ".py",
   "mimetype": "text/x-python",
   "name": "python",
   "nbconvert_exporter": "python",
   "pygments_lexer": "ipython3",
   "version": "3.9.12"
  }
 },
 "nbformat": 4,
 "nbformat_minor": 5
}
